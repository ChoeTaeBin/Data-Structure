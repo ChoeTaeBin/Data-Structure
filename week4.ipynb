{
  "nbformat": 4,
  "nbformat_minor": 0,
  "metadata": {
    "colab": {
      "provenance": [],
      "authorship_tag": "ABX9TyP3J6OcD5HeOVhm+g+hDxUS",
      "include_colab_link": true
    },
    "kernelspec": {
      "name": "python3",
      "display_name": "Python 3"
    },
    "language_info": {
      "name": "python"
    }
  },
  "cells": [
    {
      "cell_type": "markdown",
      "metadata": {
        "id": "view-in-github",
        "colab_type": "text"
      },
      "source": [
        "<a href=\"https://colab.research.google.com/github/KangGeonMa/Data-Structure/blob/main/week4.ipynb\" target=\"_parent\"><img src=\"https://colab.research.google.com/assets/colab-badge.svg\" alt=\"Open In Colab\"/></a>"
      ]
    },
    {
      "cell_type": "markdown",
      "source": [
        "문제가 대칭에 대한 것이라면 stack이용"
      ],
      "metadata": {
        "id": "9cv_bYsyzAnS"
      }
    },
    {
      "cell_type": "markdown",
      "source": [
        "Array를 이용한 Stack"
      ],
      "metadata": {
        "id": "OUD1icFs_L5h"
      }
    },
    {
      "cell_type": "code",
      "execution_count": 1,
      "metadata": {
        "id": "mDku8eMB_HP6"
      },
      "outputs": [],
      "source": [
        "class AStack:\n",
        "  def __init__(self,size = 100):\n",
        "    self.size = size#크기의 한도\n",
        "    self.arr  = [None for i in range(size)] #크기가 size인 배열을 미리 만들어 둠\n",
        "    self.topIdx = -1 #맨 꼭대기를 나타냄\n",
        "\n",
        "  def isStackFull(self):\n",
        "    if(self.size-1<=self.topIdx):\n",
        "      return True\n",
        "    else:\n",
        "      return False\n",
        "  \n",
        "  def isStackEmpty(self):\n",
        "    if(self.topIdx == -1):\n",
        "      return True\n",
        "    else:\n",
        "      return False\n",
        "  \n",
        "  def push(self,data):\n",
        "    if(self.isStackFull()):\n",
        "      print(\"Stack is full!\")\n",
        "      return\n",
        "\n",
        "    self.topIdx+=1\n",
        "    self.arr[self.topIdx] = data\n",
        "  \n",
        "  def pop(self):\n",
        "    if(self.isStackEmpty()):\n",
        "      print(\"Stack is empty!\")\n",
        "      return\n",
        "    else:\n",
        "      rData = self.arr[self.topIdx]\n",
        "      self.arr[self.topIdx] = None\n",
        "      self.topIdx -=1\n",
        "      return rData\n",
        "  \n",
        "  def top(self):\n",
        "    if(self.isStackEmpty()):\n",
        "      return None\n",
        "    return self.arr[self.topIdx]\n"
      ]
    },
    {
      "cell_type": "code",
      "source": [
        "stack = AStack()\n",
        "\n",
        "for i in range(10):\n",
        "  stack.push(i)\n",
        "\n",
        "while(not stack.isStackEmpty()):\n",
        "  print(stack.pop())"
      ],
      "metadata": {
        "colab": {
          "base_uri": "https://localhost:8080/"
        },
        "id": "Of2ZVBNMCxBB",
        "outputId": "df23db24-150e-465f-c888-f68e1ebbb5ae"
      },
      "execution_count": null,
      "outputs": [
        {
          "output_type": "stream",
          "name": "stdout",
          "text": [
            "9\n",
            "8\n",
            "7\n",
            "6\n",
            "5\n",
            "4\n",
            "3\n",
            "2\n",
            "1\n",
            "0\n"
          ]
        }
      ]
    },
    {
      "cell_type": "markdown",
      "source": [
        "LinkedList를 이용한 Stack"
      ],
      "metadata": {
        "id": "9NxQqCZYojLf"
      }
    },
    {
      "cell_type": "code",
      "source": [
        "class LStack:\n",
        "  class Node:\n",
        "    def __init__(self, data = None, next = None):\n",
        "      self.data = data\n",
        "      self.next = next\n",
        "\n",
        "\n",
        "  def __init__(self):\n",
        "    #top = None #꼭대기를 가리킴\n",
        "    self.top = self.Node(None,None)\n",
        "  \n",
        "  def isEmpty(self):\n",
        "    return(self.top.next == None)\n",
        "  \n",
        "  def push(self, data):\n",
        "    nNode = self.Node(data,self.top.next) #top dummy 노드 바로 뒤에 삽입\n",
        "    self.top.next = nNode\n",
        "\n",
        "  def pop(self):\n",
        "    if(self.isEmpty()):\n",
        "      return None\n",
        "    rData = self.top.next.data\n",
        "    self.top.next = self.top.next.next #현재 맨 위 삭제\n",
        "    return rData\n",
        "\n",
        "\n"
      ],
      "metadata": {
        "id": "8MH9M_q2oiAu"
      },
      "execution_count": 37,
      "outputs": []
    },
    {
      "cell_type": "code",
      "source": [
        "stack = LStack()\n",
        "\n",
        "for i in range(10):\n",
        "  stack.push(i)\n",
        "\n",
        "while(not stack.isEmpty()):\n",
        "  print(stack.pop())\n",
        "\n",
        "str = \"cakse\"\n",
        "print(str[3])"
      ],
      "metadata": {
        "colab": {
          "base_uri": "https://localhost:8080/"
        },
        "id": "web1CDQouiXY",
        "outputId": "c0a58670-aacb-4647-ff46-e194e5141c1d"
      },
      "execution_count": null,
      "outputs": [
        {
          "output_type": "stream",
          "name": "stdout",
          "text": [
            "9\n",
            "8\n",
            "7\n",
            "6\n",
            "5\n",
            "4\n",
            "3\n",
            "2\n",
            "1\n",
            "0\n",
            "s\n"
          ]
        }
      ]
    },
    {
      "cell_type": "code",
      "source": [
        "def BracketChecker(str):#stack이 하나만 있어도 됨\n",
        "  stack = AStack()\n",
        "  stack2 = AStack()\n",
        "\n",
        "  for c in str:\n",
        "    if (c == '(' or c == '{' or c == '[' or c == '<'): #여는 괄호 이면\n",
        "      stack.push(c)\n",
        "    elif(c == ')'):\n",
        "      #닫힌 괄호가 나왔는데 stack이 비어있거나 맨 위가 짝이 아닌경우\n",
        "      if(stack.isStackEmpty() or stack.pop() != '('):\n",
        "        return False\n",
        "    elif(c == '}'):\n",
        "      #닫힌 괄호가 나왔는데 stack이 비어있거나 맨 위가 짝이 아닌경우\n",
        "      if(stack.isStackEmpty() or stack.pop() != '{'):\n",
        "        return False\n",
        "    elif(c == ']'):\n",
        "      #닫힌 괄호가 나왔는데 stack이 비어있거나 맨 위가 짝이 아닌경우\n",
        "      if(stack.isStackEmpty() or stack.pop() != '['):\n",
        "        return False\n",
        "    elif(c == '>'):\n",
        "      #닫힌 괄호가 나왔는데 stack이 비어있거나 맨 위가 짝이 아닌경우\n",
        "      if(stack.isStackEmpty() or stack.pop() != '<'):\n",
        "        return False\n",
        "\n",
        "  return True"
      ],
      "metadata": {
        "id": "XSi-6_rMEQBY"
      },
      "execution_count": null,
      "outputs": []
    },
    {
      "cell_type": "code",
      "source": [
        "BracketChecker(\"[ { < { ( ] } > } ] \")"
      ],
      "metadata": {
        "colab": {
          "base_uri": "https://localhost:8080/"
        },
        "id": "Js-JXHJVMJCJ",
        "outputId": "5eef519a-9553-4573-b5b4-67eebcd5b22c"
      },
      "execution_count": null,
      "outputs": [
        {
          "output_type": "execute_result",
          "data": {
            "text/plain": [
              "False"
            ]
          },
          "metadata": {},
          "execution_count": 26
        }
      ]
    },
    {
      "cell_type": "code",
      "source": [
        "def isItPalindrome(str):\n",
        "  stack = AStack() #stack 생성\n",
        "\n",
        "  for i in range(int(len(str)/2)):\n",
        "    stack.push(str[i])\n",
        "\n",
        "  if(len(str)%2 == 0):#짝수\n",
        "    start = int(len(str)/2)\n",
        "  else:#홀수\n",
        "    start = int(len(str)/2) + 1\n",
        "\n",
        "  for i in range(start,len(str),1):\n",
        "    if(stack.pop() !=  str[i]):\n",
        "      return False\n",
        "  \n",
        "  return True"
      ],
      "metadata": {
        "id": "VEN2GJTosQ4R"
      },
      "execution_count": null,
      "outputs": []
    },
    {
      "cell_type": "code",
      "source": [
        "print(\"우영우 : \",isItPalindrome(\"우영우\"))\n",
        "print(\"우영영우 : \",isItPalindrome(\"우영영우\"))\n",
        "print(\"우영우우 : \", isItPalindrome(\"우영우우\"))"
      ],
      "metadata": {
        "colab": {
          "base_uri": "https://localhost:8080/"
        },
        "id": "0sKe0AavxFPZ",
        "outputId": "c0951346-5495-408c-cedc-906a282b02b0"
      },
      "execution_count": null,
      "outputs": [
        {
          "output_type": "stream",
          "name": "stdout",
          "text": [
            "우영우 :  True\n",
            "우영영우 :  True\n",
            "우영우우 :  False\n"
          ]
        }
      ]
    },
    {
      "cell_type": "markdown",
      "source": [
        "중위 표기법을 계산하는 계산기"
      ],
      "metadata": {
        "id": "UXgJS5ZCTrhN"
      }
    },
    {
      "cell_type": "code",
      "source": [
        "class Calculator:\n",
        "  \n",
        "  def whoPrecOp(self,op1, op2):#연산자 우선 순위를 구분함 op1이 우선이면 1, op2가 우선이면 -1, 둘이 같으면 0\n",
        "    #오류 상황 고려하지 않음\n",
        "    if(op1 == '+'):\n",
        "      if(op2 == '*' or op2 == '/'):\n",
        "        return -1\n",
        "      else:\n",
        "        return 0\n",
        "    elif(op1 == '-'):\n",
        "      if(op2 == '*' or op2 == '/'):\n",
        "        return -1\n",
        "      else:\n",
        "        return 0\n",
        "    elif(op1 == '*'):\n",
        "      if(op2 == '*' or op2 == '/'):\n",
        "        return 0\n",
        "      else:\n",
        "        return 1\n",
        "    else:\n",
        "      if(op2 == '*' or op2 == '/'):\n",
        "        return 0\n",
        "      else:\n",
        "        return 1\n",
        "\n",
        "  def convToPostFix(self,str):#후위 연산 식으로 바꿔줌\n",
        "    postFixStr = ''#반환할 psotFix의 string\n",
        "    digitBuff = ''\n",
        "    stack = AStack()\n",
        "\n",
        "    for c in str:#str길이만큼 반복\n",
        "      if c.isdigit():#숫자면 \n",
        "        digitBuff += c\n",
        "        #postFixStr += c #바로 push\n",
        "      else:\n",
        "        postFixStr += ' ' + digitBuff\n",
        "        digitBuff = ''\n",
        "\n",
        "        if(c == '('):#여는 괄호\n",
        "          stack.push(c)\n",
        "          \n",
        "        elif(c == ')'):#닫는 괄호\n",
        "          while(True):\n",
        "            popOp = stack.pop()\n",
        "            if(popOp == '('):#여는 괄호가 나올때 까지\n",
        "              break\n",
        "            postFixStr += ' '\n",
        "            postFixStr += popOp\n",
        "          \n",
        "        if(c == '+' or c== '-' or c== '*' or c== '/'):#연산자\n",
        "          while((not stack.isStackEmpty()) and stack.top() != '(' and self.whoPrecOp(stack.top(),c) != -1):\n",
        "            #우선 순위가 높은 애들은 모두 pop\n",
        "            postFixStr += ' '\n",
        "            postFixStr += stack.pop()\n",
        "          \n",
        "          stack.push(c) #스택에 넣음\n",
        "\n",
        "    while(not stack.isStackEmpty()):\n",
        "      postFixStr += ' '\n",
        "      postFixStr += stack.pop()\n",
        "\n",
        "    return postFixStr\n",
        "    \n",
        "  \n",
        "  def evalPostFix(self,str):\n",
        "    stack = AStack()\n",
        "    temp = 0 #수를 임시 저장  \n",
        "    isPreDigit = False #이전 것이 숫자였다면\n",
        "\n",
        "    for c in str:\n",
        "      if c.isdigit():#숫자이면\n",
        "        temp = temp*10 + int(c)\n",
        "        isPreDigit = True\n",
        "      else:#숫자가 아닐때\n",
        "        if isPreDigit:#이전 것이 숫자였다면\n",
        "          stack.push(temp)\n",
        "          temp = 0 #temp 초기화\n",
        "\n",
        "        if(c=='+'):\n",
        "          digit1 = stack.pop()\n",
        "          digit2 = stack.pop()\n",
        "          stack.push(digit2+digit1)\n",
        "        elif(c == '-'):\n",
        "          digit1 = stack.pop()\n",
        "          digit2 = stack.pop()\n",
        "          stack.push(digit2-digit1)\n",
        "        elif(c == '*'):\n",
        "          digit1 = stack.pop()\n",
        "          digit2 = stack.pop()\n",
        "          stack.push(digit2*digit1)\n",
        "        elif(c == '/'):\n",
        "          digit1 = stack.pop()\n",
        "          digit2 = stack.pop()\n",
        "          stack.push(digit2/digit1)\n",
        "\n",
        "        isPreDigit = False\n",
        "\n",
        "    return  stack.pop() #stack의 맨 마지막에 결과가 저장됨\n",
        "\n",
        "  def evalInFix(self,str):#중위 표기 계산\n",
        "    return self.evalPostFix(self.convToPostFix(str))\n"
      ],
      "metadata": {
        "id": "RwjUnx8rT6JO"
      },
      "execution_count": 22,
      "outputs": []
    },
    {
      "cell_type": "code",
      "source": [
        "c = Calculator()\n",
        "print(c.evalInFix(\"(32 + 1) * 4 * 46 /8 \"))\n"
      ],
      "metadata": {
        "colab": {
          "base_uri": "https://localhost:8080/"
        },
        "id": "AFU0UvAhegRe",
        "outputId": "2b61d473-6e9e-4a78-b7d3-6250ef9ae5cb"
      },
      "execution_count": 24,
      "outputs": [
        {
          "output_type": "stream",
          "name": "stdout",
          "text": [
            "759.0\n"
          ]
        }
      ]
    }
  ]
}