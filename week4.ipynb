{
  "nbformat": 4,
  "nbformat_minor": 0,
  "metadata": {
    "colab": {
      "provenance": [],
      "authorship_tag": "ABX9TyPRL5NMb4bFv00+koWMXWnu",
      "include_colab_link": true
    },
    "kernelspec": {
      "name": "python3",
      "display_name": "Python 3"
    },
    "language_info": {
      "name": "python"
    }
  },
  "cells": [
    {
      "cell_type": "markdown",
      "metadata": {
        "id": "view-in-github",
        "colab_type": "text"
      },
      "source": [
        "<a href=\"https://colab.research.google.com/github/KangGeonMa/Data-Structure/blob/main/week4.ipynb\" target=\"_parent\"><img src=\"https://colab.research.google.com/assets/colab-badge.svg\" alt=\"Open In Colab\"/></a>"
      ]
    },
    {
      "cell_type": "markdown",
      "source": [
        "문제가 대칭에 대한 것이라면 stack이용"
      ],
      "metadata": {
        "id": "9cv_bYsyzAnS"
      }
    },
    {
      "cell_type": "markdown",
      "source": [
        "Array를 이용한 Stack"
      ],
      "metadata": {
        "id": "OUD1icFs_L5h"
      }
    },
    {
      "cell_type": "code",
      "execution_count": 1,
      "metadata": {
        "id": "mDku8eMB_HP6"
      },
      "outputs": [],
      "source": [
        "class AStack:\n",
        "  def __init__(self,size = 100):\n",
        "    self.size = size#크기의 한도\n",
        "    self.arr  = [None for i in range(size)] #크기가 size인 배열을 미리 만들어 둠\n",
        "    self.topIdx = -1 #맨 꼭대기를 나타냄\n",
        "\n",
        "  def isStackFull(self):\n",
        "    if(self.size-1<=self.topIdx):\n",
        "      return True\n",
        "    else:\n",
        "      return False\n",
        "  \n",
        "  def isStackEmpty(self):\n",
        "    if(self.topIdx == -1):\n",
        "      return True\n",
        "    else:\n",
        "      return False\n",
        "  \n",
        "  def push(self,data):\n",
        "    if(self.isStackFull()):\n",
        "      print(\"Stack is full!\")\n",
        "      return\n",
        "\n",
        "    self.topIdx+=1\n",
        "    self.arr[self.topIdx] = data\n",
        "  \n",
        "  def pop(self):\n",
        "    if(self.isStackEmpty()):\n",
        "      print(\"Stack is empty!\")\n",
        "      return\n",
        "    else:\n",
        "      rData = self.arr[self.topIdx]\n",
        "      self.arr[self.topIdx] = None\n",
        "      self.topIdx -=1\n",
        "      return rData\n"
      ]
    },
    {
      "cell_type": "code",
      "source": [
        "stack = AStack()\n",
        "\n",
        "for i in range(10):\n",
        "  stack.push(i)\n",
        "\n",
        "while(not stack.isStackEmpty()):\n",
        "  print(stack.pop())"
      ],
      "metadata": {
        "colab": {
          "base_uri": "https://localhost:8080/"
        },
        "id": "Of2ZVBNMCxBB",
        "outputId": "df23db24-150e-465f-c888-f68e1ebbb5ae"
      },
      "execution_count": 3,
      "outputs": [
        {
          "output_type": "stream",
          "name": "stdout",
          "text": [
            "9\n",
            "8\n",
            "7\n",
            "6\n",
            "5\n",
            "4\n",
            "3\n",
            "2\n",
            "1\n",
            "0\n"
          ]
        }
      ]
    },
    {
      "cell_type": "markdown",
      "source": [
        "LinkedList를 이용한 Stack"
      ],
      "metadata": {
        "id": "9NxQqCZYojLf"
      }
    },
    {
      "cell_type": "code",
      "source": [
        "class LStack:\n",
        "  class Node:\n",
        "    def __init__(self, data = None, next = None):\n",
        "      self.data = data\n",
        "      self.next = next\n",
        "\n",
        "\n",
        "  def __init__(self):\n",
        "    #top = None #꼭대기를 가리킴\n",
        "    self.top = self.Node(None,None)\n",
        "  \n",
        "  def isEmpty(self):\n",
        "    return(self.top.next == None)\n",
        "  \n",
        "  def push(self, data):\n",
        "    nNode = self.Node(data,self.top.next) #top dummy 노드 바로 뒤에 삽입\n",
        "    self.top.next = nNode\n",
        "\n",
        "  def pop(self):\n",
        "    if(self.isEmpty()):\n",
        "      return None\n",
        "    rData = self.top.next.data\n",
        "    self.top.next = self.top.next.next #현재 맨 위 삭제\n",
        "    return rData\n",
        "\n",
        "\n"
      ],
      "metadata": {
        "id": "8MH9M_q2oiAu"
      },
      "execution_count": 6,
      "outputs": []
    },
    {
      "cell_type": "code",
      "source": [
        "stack = LStack()\n",
        "\n",
        "for i in range(10):\n",
        "  stack.push(i)\n",
        "\n",
        "while(not stack.isEmpty()):\n",
        "  print(stack.pop())\n",
        "\n",
        "str = \"cakse\"\n",
        "print(str[3])"
      ],
      "metadata": {
        "colab": {
          "base_uri": "https://localhost:8080/"
        },
        "id": "web1CDQouiXY",
        "outputId": "c0a58670-aacb-4647-ff46-e194e5141c1d"
      },
      "execution_count": 13,
      "outputs": [
        {
          "output_type": "stream",
          "name": "stdout",
          "text": [
            "9\n",
            "8\n",
            "7\n",
            "6\n",
            "5\n",
            "4\n",
            "3\n",
            "2\n",
            "1\n",
            "0\n",
            "s\n"
          ]
        }
      ]
    },
    {
      "cell_type": "code",
      "source": [
        "def BracketChecker(str):#stack이 하나만 있어도 됨\n",
        "  stack = AStack()\n",
        "  stack2 = AStack()\n",
        "\n",
        "  for c in str:\n",
        "    if (c == '(' or c == '{' or c == '[' or c == '<'): #여는 괄호 이면\n",
        "      stack.push(c)\n",
        "    elif(c == ')'):\n",
        "      #닫힌 괄호가 나왔는데 stack이 비어있거나 맨 위가 짝이 아닌경우\n",
        "      if(stack.isStackEmpty() or stack.pop() != '('):\n",
        "        return False\n",
        "    elif(c == '}'):\n",
        "      #닫힌 괄호가 나왔는데 stack이 비어있거나 맨 위가 짝이 아닌경우\n",
        "      if(stack.isStackEmpty() or stack.pop() != '{'):\n",
        "        return False\n",
        "    elif(c == ']'):\n",
        "      #닫힌 괄호가 나왔는데 stack이 비어있거나 맨 위가 짝이 아닌경우\n",
        "      if(stack.isStackEmpty() or stack.pop() != '['):\n",
        "        return False\n",
        "    elif(c == '>'):\n",
        "      #닫힌 괄호가 나왔는데 stack이 비어있거나 맨 위가 짝이 아닌경우\n",
        "      if(stack.isStackEmpty() or stack.pop() != '<'):\n",
        "        return False\n",
        "\n",
        "  return True"
      ],
      "metadata": {
        "id": "XSi-6_rMEQBY"
      },
      "execution_count": 19,
      "outputs": []
    },
    {
      "cell_type": "code",
      "source": [
        "BracketChecker(\"[ { < { ( ] } > } ] \")"
      ],
      "metadata": {
        "colab": {
          "base_uri": "https://localhost:8080/"
        },
        "id": "Js-JXHJVMJCJ",
        "outputId": "5eef519a-9553-4573-b5b4-67eebcd5b22c"
      },
      "execution_count": 26,
      "outputs": [
        {
          "output_type": "execute_result",
          "data": {
            "text/plain": [
              "False"
            ]
          },
          "metadata": {},
          "execution_count": 26
        }
      ]
    },
    {
      "cell_type": "code",
      "source": [
        "def isItPalindrome(str):\n",
        "  stack = AStack() #stack 생성\n",
        "\n",
        "  for i in range(int(len(str)/2)):\n",
        "    stack.push(str[i])\n",
        "\n",
        "  if(len(str)%2 == 0):#짝수\n",
        "    start = int(len(str)/2)\n",
        "  else:#홀수\n",
        "    start = int(len(str)/2) + 1\n",
        "\n",
        "  for i in range(start,len(str),1):\n",
        "    if(stack.pop() !=  str[i]):\n",
        "      return False\n",
        "  \n",
        "  return True"
      ],
      "metadata": {
        "id": "VEN2GJTosQ4R"
      },
      "execution_count": 16,
      "outputs": []
    },
    {
      "cell_type": "code",
      "source": [
        "print(\"우영우 : \",isItPalindrome(\"우영우\"))\n",
        "print(\"우영영우 : \",isItPalindrome(\"우영영우\"))\n",
        "print(\"우영우우 : \", isItPalindrome(\"우영우우\"))"
      ],
      "metadata": {
        "colab": {
          "base_uri": "https://localhost:8080/"
        },
        "id": "0sKe0AavxFPZ",
        "outputId": "c0951346-5495-408c-cedc-906a282b02b0"
      },
      "execution_count": 18,
      "outputs": [
        {
          "output_type": "stream",
          "name": "stdout",
          "text": [
            "우영우 :  True\n",
            "우영영우 :  True\n",
            "우영우우 :  False\n"
          ]
        }
      ]
    },
    {
      "cell_type": "code",
      "source": [
        "def inFixToPostFix(str):\n",
        "  stack = AStack()\n",
        "\n",
        "  for i in str:\n",
        "    print(type(i),i)\n",
        "\n",
        "    if(i.isdigit() or i == '(' or i == '{' or i == '['): #push 필요\n",
        "      stack.push(i)\n",
        "      print(\"it is open bracket\" + i)\n",
        "    elif(i== ')'):\n",
        "      temp = stack.pop()\n",
        "      while(temp != '('):\n",
        "        \n",
        "      print(\"it is close bracket\" + i)\n",
        "    elif(i== '}'):\n",
        "      print(\"it is close bracket\" + i)\n",
        "    elif(i== ']'):\n",
        "      print(\"it is close bracket\" + i)\n",
        "    "
      ],
      "metadata": {
        "id": "wwGOlU9JMNue"
      },
      "execution_count": null,
      "outputs": []
    },
    {
      "cell_type": "code",
      "source": [
        "inFixToPostFix(\"(123()[])\")"
      ],
      "metadata": {
        "colab": {
          "base_uri": "https://localhost:8080/"
        },
        "id": "zvxhDCxQZVb7",
        "outputId": "56cc7020-bb07-49bd-9e25-6fe8d15d54cf"
      },
      "execution_count": null,
      "outputs": [
        {
          "output_type": "stream",
          "name": "stdout",
          "text": [
            "<class 'str'> (\n",
            "<class 'str'> 1\n",
            "it is digit\n",
            "<class 'str'> 2\n",
            "it is digit\n",
            "<class 'str'> 3\n",
            "it is digit\n",
            "<class 'str'> (\n",
            "<class 'str'> )\n",
            "it is bracket\n",
            "<class 'str'> [\n",
            "<class 'str'> ]\n",
            "it is bracket\n",
            "<class 'str'> )\n",
            "it is bracket\n"
          ]
        }
      ]
    },
    {
      "cell_type": "code",
      "source": [],
      "metadata": {
        "id": "XllPTYKyZo94"
      },
      "execution_count": null,
      "outputs": []
    }
  ]
}