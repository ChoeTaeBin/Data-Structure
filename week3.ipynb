{
  "nbformat": 4,
  "nbformat_minor": 0,
  "metadata": {
    "colab": {
      "provenance": [],
      "authorship_tag": "ABX9TyNMgYZJecYLgDRQKgKMdwui",
      "include_colab_link": true
    },
    "kernelspec": {
      "name": "python3",
      "display_name": "Python 3"
    },
    "language_info": {
      "name": "python"
    }
  },
  "cells": [
    {
      "cell_type": "markdown",
      "metadata": {
        "id": "view-in-github",
        "colab_type": "text"
      },
      "source": [
        "<a href=\"https://colab.research.google.com/github/KangGeonMa/Data-Structure/blob/main/week3.ipynb\" target=\"_parent\"><img src=\"https://colab.research.google.com/assets/colab-badge.svg\" alt=\"Open In Colab\"/></a>"
      ]
    },
    {
      "cell_type": "code",
      "execution_count": 42,
      "metadata": {
        "id": "mRmwcLDPYRES"
      },
      "outputs": [],
      "source": [
        "#list\n",
        "class LinkedList():\n",
        "  def __init__(self):\n",
        "    self.head = None #맨 앞을 가리킴\n",
        "    self.tail = None #맨 뒤를 가리킴\n",
        "    self.len = 0 #요소의 갯수를 나타냄\n",
        "\n",
        "  class Node():#노드\n",
        "    def __init__(self,data = None,link = None):\n",
        "      self.data = data\n",
        "      self.link = link\n",
        "  \n",
        "  def isEmpty(self):#비어있는지\n",
        "    return self.len == 0\n",
        "\n",
        "  def append(self,data):\n",
        "    nNode = self.Node(data,None)\n",
        "\n",
        "    if self.isEmpty():#비어 있는 경우 head갱신 필요\n",
        "      self.head = nNode#head 갱신\n",
        "      self.tail = nNode#tail 갱신\n",
        "      self.len += 1\n",
        "      return\n",
        "    else:#그 외의 경우는 tail만 갱신\n",
        "      self.tail.link = nNode\n",
        "      self.tail = nNode\n",
        "      self.len += 1\n",
        "\n",
        "    \n",
        "\n",
        "  def insert(self,idx,data):#원하는 위치에 삽입\n",
        "    if self.isEmpty():#리스트가 비어있다면\n",
        "      nNode = self.Node(data,None)\n",
        "      self.head = nNode#head 갱신\n",
        "      self.tail = nNode#tail 갱신\n",
        "      self.len+=1\n",
        "      return\n",
        "\n",
        "    needTailChange = False #tail을 바뀌어야 하는지\n",
        "\n",
        "    if(idx<0):#음수 idx변환\n",
        "      idx += self.len\n",
        "\n",
        "    if(idx<=0):#idx가 0보다 작거나 같으면 맨 앞으로 삽입\n",
        "      nNode = self.Node(data,self.head)\n",
        "      self.head = nNode#head 갱신\n",
        "      self.len+=1\n",
        "    else:\n",
        "      #idx-1번 까지 이동\n",
        "      current = self.head\n",
        "      for i in range(idx-1):\n",
        "        if(current.link == None):\n",
        "          needTailchange = True#tail 갱신 해야함\n",
        "          break #idx가 맨 뒤보다 크거나 같으면 맨 뒤로 삽입\n",
        "        current = current.link#이동\n",
        "\n",
        "      #삽입\n",
        "      nNode = self.Node(data,current.link)\n",
        "      current.link = nNode\n",
        "      if needTailChange:\n",
        "        tail = nNode #맨 뒤 노드가 바뀌었으므로 tail을 갱신\n",
        "      self.len+=1\n",
        "\n",
        "  def delete(self,idx):\n",
        "    if self.isEmpty():#아무 것도 할 것이 없음\n",
        "      return\n",
        "\n",
        "    if(self.head == self.tail):\n",
        "      #요소가 한개인 경우\n",
        "      self.head = None\n",
        "      self.tail = None\n",
        "      self.len -= 1\n",
        "      return\n",
        "\n",
        "    if(idx<0):#음수 idx변환\n",
        "      idx += self.len\n",
        "\n",
        "    if(idx<=0):\n",
        "      #head 삭제\n",
        "      self.head = self.head.link #None 저장\n",
        "    else:\n",
        "      #idx-1번 까지 이동\n",
        "      current = self.head\n",
        "      \n",
        "      for i in range(idx-1):\n",
        "        if(current.link.link == None):#삭제해야 할 항이 마지막인 경우\n",
        "          break\n",
        "        else:\n",
        "          current = current.link#이동\n",
        "\n",
        "      #삭제\n",
        "      if current.link.link == None: #마지막 항 삭제 이면\n",
        "        current.link = None\n",
        "        self.tail = current\n",
        "      else:\n",
        "        current.link = current.link.link\n",
        "        \n",
        "    self.len-=1\n",
        "\n",
        "  def printAll(self):#모두 출력\n",
        "    if self.isEmpty():#리스트가 비어있다면\n",
        "      print(\"list is empty\")\n",
        "      return\n",
        "\n",
        "    current = self.head\n",
        "    print(\"[start\",end=\" -> \")\n",
        "\n",
        "    while current.link != None:\n",
        "      print(current.data, end = \" -> \")\n",
        "      current = current.link\n",
        "    print(current.data, \" -> end]\")# 마지막 항 출력\n",
        "\n"
      ]
    },
    {
      "cell_type": "code",
      "source": [
        "list = LinkedList()\n",
        "\n",
        "n0 = list.Node()\n",
        "list.append(\"에스파\")\n",
        "\n",
        "list.append(\"아이브\")\n",
        "\n",
        "list.append(\"뉴진스\")\n",
        "\n",
        "list.append(\"잇지\")\n",
        "\n",
        "list.printAll()\n",
        "\n",
        "list.insert(-1000,\"제국의 아이들\")\n",
        "list.printAll()\n",
        "\n",
        "list.insert(3,\"2ne1\")\n",
        "list.printAll()\n",
        "\n",
        "list.delete(-10)\n",
        "list.printAll()\n",
        "\n",
        "list.delete(-3)\n",
        "list.printAll()\n",
        "\n",
        "\n",
        "\n"
      ],
      "metadata": {
        "colab": {
          "base_uri": "https://localhost:8080/"
        },
        "id": "qulyHEAsdjxC",
        "outputId": "37fe6b5a-3dcd-41eb-f88f-82389f9ad630"
      },
      "execution_count": 43,
      "outputs": [
        {
          "output_type": "stream",
          "name": "stdout",
          "text": [
            "[start -> 에스파 -> 아이브 -> 뉴진스 -> 잇지  -> end]\n",
            "[start -> 제국의 아이들 -> 에스파 -> 아이브 -> 뉴진스 -> 잇지  -> end]\n",
            "[start -> 제국의 아이들 -> 에스파 -> 아이브 -> 2ne1 -> 뉴진스 -> 잇지  -> end]\n",
            "[start -> 에스파 -> 아이브 -> 2ne1 -> 뉴진스 -> 잇지  -> end]\n",
            "[start -> 에스파 -> 아이브 -> 뉴진스 -> 잇지  -> end]\n"
          ]
        }
      ]
    },
    {
      "cell_type": "code",
      "source": [],
      "metadata": {
        "id": "xVmU33OYanNH"
      },
      "execution_count": null,
      "outputs": []
    }
  ]
}