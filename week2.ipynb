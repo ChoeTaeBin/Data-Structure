{
  "nbformat": 4,
  "nbformat_minor": 0,
  "metadata": {
    "colab": {
      "provenance": [],
      "authorship_tag": "ABX9TyNDK3+wX99Ve8odlXV/m1dL",
      "include_colab_link": true
    },
    "kernelspec": {
      "name": "python3",
      "display_name": "Python 3"
    },
    "language_info": {
      "name": "python"
    }
  },
  "cells": [
    {
      "cell_type": "markdown",
      "metadata": {
        "id": "view-in-github",
        "colab_type": "text"
      },
      "source": [
        "<a href=\"https://colab.research.google.com/github/KangGeonMa/Data-Structure/blob/main/week2.ipynb\" target=\"_parent\"><img src=\"https://colab.research.google.com/assets/colab-badge.svg\" alt=\"Open In Colab\"/></a>"
      ]
    },
    {
      "cell_type": "markdown",
      "source": [
        "이차원 배열 생성법1(numpy의 reshape() 이용)"
      ],
      "metadata": {
        "id": "ANxJwNBEVk1X"
      }
    },
    {
      "cell_type": "code",
      "source": [
        "import numpy as np\n",
        "a = [1,2,3,4,5,6]\n",
        "\n",
        "a = np.reshape(a,(3,2))#일차원 배열 -> 2차원 배열\n",
        "\n",
        "for r in range(0,3):\n",
        "  print(\" \")\n",
        "  for c in range(0,2):\n",
        "    print(a[r][c], end = \" \")"
      ],
      "metadata": {
        "colab": {
          "base_uri": "https://localhost:8080/"
        },
        "id": "ssmF3JbWPllz",
        "outputId": "c7e59702-4735-4692-ee1e-fbee25a118a6"
      },
      "execution_count": null,
      "outputs": [
        {
          "output_type": "stream",
          "name": "stdout",
          "text": [
            " \n",
            "1 2  \n",
            "3 4  \n",
            "5 6 "
          ]
        }
      ]
    },
    {
      "cell_type": "markdown",
      "source": [
        "2차원 배열의 생성법2 (for문 이용)"
      ],
      "metadata": {
        "id": "nbfJXF1WzxK6"
      }
    },
    {
      "cell_type": "code",
      "source": [
        "b = [[0 for r in range(r)] for c in range(c)]"
      ],
      "metadata": {
        "id": "c6FSnUqJzw4i"
      },
      "execution_count": null,
      "outputs": []
    },
    {
      "cell_type": "markdown",
      "source": [
        "9개 수를 입력받아 3*3이차원 배열 생성, 평균, 최대- 최소 출력"
      ],
      "metadata": {
        "id": "zIeVteA1YA-8"
      }
    },
    {
      "cell_type": "code",
      "source": [
        "import numpy as np\n",
        "\n",
        "def example1():\n",
        "  row = 3\n",
        "  col = 3\n",
        "  a = []\n",
        "\n",
        "  a.append(int(input())) #첫항을 입력받음\n",
        "  sum = a[0]\n",
        "  max = a[0]\n",
        "  min = a[0]\n",
        "\n",
        "  for i in range(1,row*col,1):\n",
        "    a.append(int(input()))\n",
        "    if(a[i]>max):\n",
        "      max = a[i]\n",
        "    if(a[i]<min):\n",
        "      min = a[i]\n",
        "    sum += a[i]\n",
        "  \n",
        "  print(\"average: \",sum/float(row*col))\n",
        "  print(max, \"-\", min)\n",
        "  print(\"max-min: \",max - min)\n",
        "\n",
        "  a = np.reshape(a,(row,col))\n",
        "  print(a)\n",
        "\n"
      ],
      "metadata": {
        "id": "y-Q3rYjpQAYP"
      },
      "execution_count": null,
      "outputs": []
    },
    {
      "cell_type": "markdown",
      "source": [
        "정수 배열을 멤버 변수로 갖고\n",
        "메소드 1 : 배열의 짝수의 갯수 반환\n",
        "메소드 2 : 같은 수가 있는지 반환\n",
        "메소드 3 : 최대값-최소값 반환"
      ],
      "metadata": {
        "id": "YMQBDttjYQOU"
      }
    },
    {
      "cell_type": "code",
      "source": [
        "class ArrayPractice:\n",
        "  \n",
        "  def __init__(self):\n",
        "    self.arr = [8,17,5,18,5,9,1,2,5,4] #기본 배열\n",
        "\n",
        "  def numOfEven(self):#짝수의 갯수 찾는 함수\n",
        "    count = 0\n",
        "    for n in self.arr:\n",
        "      if(not n%2): #짝수면\n",
        "        count+=1\n",
        "    return count\n",
        "\n",
        "  def isThereTwins(self):#같은 것이 있는 지 찾는 함수\n",
        "    for fIdx in range(0,len(self.arr)-1,1):\n",
        "      for eIdx in range(fIdx+1,len(self.arr),1):\n",
        "        if(self.arr[fIdx] == self.arr[eIdx]):\n",
        "          return True #같은 것을 찾음\n",
        "    return False#같은 것이 없음\n",
        "\n",
        "  def maxMinusMin(self):#최대-최소\n",
        "    max = self.arr[0]\n",
        "    min = self.arr[0]\n",
        "\n",
        "    for n in self.arr:\n",
        "      if(n>max):\n",
        "        max = n\n",
        "      if(n<min):\n",
        "        min = n\n",
        "    return max-min\n"
      ],
      "metadata": {
        "id": "bnox863NSUNV"
      },
      "execution_count": null,
      "outputs": []
    },
    {
      "cell_type": "code",
      "source": [
        "def main():\n",
        "  ap = ArrayPractice()\n",
        "  print(\"배열: \", ap.arr)\n",
        "\n",
        "  print(\"짝수의 갯수: \", ap.numOfEven())\n",
        "  print(\"같은 것이 있나요? \", \"Y\" if ap.isThereTwins() else \"N\")\n",
        "  print(\"최대값 - 최소값: \", ap.maxMinusMin())\n",
        "\n"
      ],
      "metadata": {
        "id": "rglNTFzIYGNo"
      },
      "execution_count": null,
      "outputs": []
    },
    {
      "cell_type": "markdown",
      "source": [
        "2차원 배열 대각선 출력"
      ],
      "metadata": {
        "id": "PhjYhzkH0Xfn"
      }
    },
    {
      "cell_type": "code",
      "source": [
        "def DiagonalPrint():\n",
        "  col = 5\n",
        "  row = 5\n",
        "  nextStartPos = [0,0] #0행 0열 을 나타냄\n",
        "\n",
        "  arr = [[1, 2, 3, 4, 5],\n",
        "         [6, 7, 6, 9, 10],\n",
        "         [11, 12, 13, 14, 15],\n",
        "         [16, 17, 18, 19, 20],\n",
        "         [21, 22, 23, 24, 25]]\n",
        "\n",
        "  while(nextStartPos[0]<row):#시작 점이 마지막 열 이상이 아니라면\n",
        "\n",
        "    r = nextStartPos[0]\n",
        "    c = nextStartPos[1]\n",
        "\n",
        "    while(c>=0 and r<row):#대각선으로 읽어 나감\n",
        "      print(arr[r][c], end = \" \")\n",
        "      r+=1\n",
        "      c-=1\n",
        "    \n",
        "    if(nextStartPos[1] == col-1):\n",
        "      nextStartPos[0]+=1\n",
        "    else:\n",
        "      nextStartPos[1]+=1\n",
        "    \n",
        "    #print(nextStartPos[0],\"행 \", nextStartPos[1],\"열 \")\n",
        "    "
      ],
      "metadata": {
        "id": "8VcE6vQHVHso"
      },
      "execution_count": null,
      "outputs": []
    },
    {
      "cell_type": "markdown",
      "source": [
        "google 삼차원 배열 출력 문제\n",
        "삼차원 index의 의미: arr[깊이][행][열]"
      ],
      "metadata": {
        "id": "pwn_7AQY0iH_"
      }
    },
    {
      "cell_type": "code",
      "source": [
        "import numpy\n",
        "\n",
        "def threeDArrayPrint():\n",
        "  rows = 3\n",
        "  cols = 3\n",
        "  depth = 3\n",
        "\n",
        "  arr = []\n",
        "\n",
        "  #문제의 삼차원 배열을 만든다.\n",
        "  num = 1\n",
        "  for i in range(rows*cols*depth):\n",
        "    arr.append(int(num))\n",
        "    num+=1\n",
        "  arr = numpy.reshape(arr,(depth,rows,cols))\n",
        "\n",
        "  #깊이 -> 열 -> 행 순으로 바꾸며 출력\n",
        "  for r in range(rows):\n",
        "    for c in range(cols):\n",
        "      for d in range(depth): #깊이 부터 조절\n",
        "        print(arr[d][r][c], end = \" \")\n",
        "\n"
      ],
      "metadata": {
        "id": "LUc_yvNo3PcP"
      },
      "execution_count": null,
      "outputs": []
    },
    {
      "cell_type": "markdown",
      "source": [
        "행렬곱 프로그램"
      ],
      "metadata": {
        "id": "HalN-8oahPkQ"
      }
    },
    {
      "cell_type": "code",
      "source": [
        "def matrixProduct(matrix1, matrix2):\n",
        "  if(len(matrix1[0]) != len(matrix2)):\n",
        "    print(\"행렬 곱을 할 수 없음\")\n",
        "    return\n",
        "\n",
        "  rows = len(matrix1) #앞의 행렬의 행수\n",
        "  cols = len(matrix2[0])#뒤 행렬의 열수\n",
        "\n",
        "  result = [[0 for c in range(cols)] for r in range(rows)] #r*c 행렬 생성\n",
        "\n",
        "  for r in range(rows):\n",
        "    for c in range(cols):\n",
        "      for i in range(len(matrix2)):\n",
        "        result[r][c] += (matrix1[r][i]  * matrix2[i][c])\n",
        "\n",
        "  return result"
      ],
      "metadata": {
        "id": "7GFT9mBzhY6W"
      },
      "execution_count": 40,
      "outputs": []
    },
    {
      "cell_type": "markdown",
      "source": [
        "문제 1\n",
        "\n",
        "5*5 행렬에서\n",
        "\n",
        "1.짝수행 홀수열 출력\n",
        "\n",
        "2.열 행 합 계산산\n",
        "\n"
      ],
      "metadata": {
        "id": "EZLRukEmicK8"
      }
    },
    {
      "cell_type": "code",
      "source": [
        "import numpy\n",
        "\n",
        "def q1():\n",
        "  rows,cols = (5,5)\n",
        "\n",
        "  arr = [[0 for r in range(rows+1)] for c in range(cols+1)] #한칸씩 더크게 선언\n",
        "\n",
        "  #입력받음\n",
        "  for r in range(rows):\n",
        "    for c in range(cols):\n",
        "      arr[r][c] = int(input())\n",
        "      arr[r][cols] += arr[r][c] #마지막 열에 합을 형성\n",
        "      arr[rows][c] += arr[r][c] #마지막 행에 열을 생성\n",
        "\n",
        "    #[rows][cols] 에 총합 저장\n",
        "  for r in range(rows):\n",
        "    arr[rows][cols]+=arr[r][cols] \n",
        "\n",
        "\n",
        "  for r in range(rows):\n",
        "    for c in range(cols):\n",
        "      if(r%2 == 0 and c%2 ==1):\n",
        "        print(arr[r][c])\n",
        "\n",
        "  print(arr)"
      ],
      "metadata": {
        "id": "I0zAKmBKOyYF"
      },
      "execution_count": null,
      "outputs": []
    },
    {
      "cell_type": "markdown",
      "source": [
        "2차원 배열 달팽이 출력 문제"
      ],
      "metadata": {
        "id": "qGevQ-Bpzbp9"
      }
    },
    {
      "cell_type": "code",
      "source": [
        "def q2():\n",
        "  rows, cols = (5,5)\n",
        "\n",
        "  arr = [[0 for r in range(rows)] for c in range(cols)]\n",
        "\n",
        "  #정방행렬이라고 가정\n",
        "  lowerBound = 0\n",
        "  uperBound = rows -1\n",
        "\n",
        "  num = 0\n",
        "  while lowerBound < uperBound:\n",
        "\n",
        "    #윗변\n",
        "    for c in range(lowerBound,uperBound,1):\n",
        "      arr[lowerBound][c] = num\n",
        "      num+=1\n",
        "\n",
        "    #오른쪽\n",
        "    for r in range(lowerBound,uperBound,1):\n",
        "      arr[r][uperBound] = num\n",
        "      num+=1\n",
        "\n",
        "    #아랫변\n",
        "    for c in range(uperBound,lowerBound,-1):\n",
        "      arr[uperBound][c] = num\n",
        "      num+=1\n",
        "\n",
        "    #왼쪽\n",
        "    for r in range(uperBound,lowerBound,-1):\n",
        "      arr[r][lowerBound] = num\n",
        "      num+=1\n",
        "  \n",
        "    lowerBound+=1\n",
        "    uperBound-=1\n",
        "  \n",
        "  arr[lowerBound][lowerBound] = num # 맨가운데 처리\n",
        "\n",
        "  for r in range(rows):\n",
        "    print(\" \")\n",
        "    for c in range(cols):\n",
        "      print(arr[r][c],end = \" \")\n"
      ],
      "metadata": {
        "id": "pMbtrKOZlKXI"
      },
      "execution_count": 1,
      "outputs": []
    },
    {
      "cell_type": "markdown",
      "source": [
        "자율 주행 자동차 \n",
        "10X10배열에서 (0,0)에서 (9,9)까지 이동 경로를 출력 (길은 오직 하나의 경로만 있는 경우)\n",
        "\n",
        "추후 탐색을 이용 하여 발전 시켜야 함"
      ],
      "metadata": {
        "id": "jlKH46neFliN"
      }
    },
    {
      "cell_type": "code",
      "source": [
        "class SelfDriveCarGame:\n",
        "  def __init__(self):\n",
        "    self.map = [ #지도 10X10\n",
        "        [1,1,1,0,0,0,0,0,0,0],\n",
        "        [0,0,1,0,0,0,0,0,0,0],\n",
        "        [0,0,1,0,0,0,0,0,0,0],\n",
        "        [0,0,1,1,1,1,1,0,0,0],\n",
        "        [0,0,0,0,0,0,1,0,0,0],\n",
        "        [0,0,0,0,0,0,1,0,0,0],\n",
        "        [0,0,0,0,0,0,1,0,0,0],\n",
        "        [0,0,0,0,0,0,1,1,0,0],\n",
        "        [0,0,0,0,0,0,0,1,1,0],\n",
        "        [0,0,0,0,0,0,0,0,1,1],\n",
        "    ]\n",
        "\n",
        "  def gameMain(self):\n",
        "    carPos = [0,0] #(0,0)에서 출발\n",
        "\n",
        "    while(not(carPos[0] == len(self.map)-1 and carPos[1] == len(self.map[0])-1)):#마지막 행,열에 도달하지 못한 경우 계속속\n",
        "      print(\"(\",carPos[0],\", \",carPos[1],\")\")# 현재 위치 출력\n",
        "      # 좌 하 우 상 순서 우선 순위 (갈림 길이 있는 경우와 길이 막힌 경우 등은 고려 하지 않음)\n",
        "\n",
        "      nextPos = [[carPos[0],carPos[1]+1], [carPos[0]+1,carPos[1]], [carPos[0],carPos[1]-1],[carPos[0]-1, carPos[1]]]\n",
        "    \n",
        "      #좌 하 우 상 중 경계 안에 있는 곳으로 이동\n",
        "      for i in range(4):\n",
        "        if(0<= nextPos[i][0] < len(self.map) and 0<= nextPos[i][1] <len(self.map[0]) and self.map[nextPos[i][0]][nextPos[i][1]] == 1):\n",
        "          break\n",
        "\n",
        "      carPos = [nextPos[i][0],nextPos[i][1]] #이동\n",
        "\n",
        "    print(\"(\",carPos[0],\", \",carPos[1],\")\")# 현재 위치 출력\n",
        "  \n",
        "\n",
        "    \n",
        "    \n",
        "       \n"
      ],
      "metadata": {
        "id": "_-ex085LFsV-"
      },
      "execution_count": 19,
      "outputs": []
    },
    {
      "cell_type": "markdown",
      "source": [
        "황금 지도\n",
        "(두 2차원 배열의 동시에 1인 곳을 찾아서 위치를 출력)"
      ],
      "metadata": {
        "id": "99R1-AqYX1Ka"
      }
    },
    {
      "cell_type": "code",
      "source": [
        "def goldMap():\n",
        "  map = [\n",
        "  [\n",
        "      [0, 1, 0, 0],\n",
        "      [0, 0, 1, 1],\n",
        "      [0, 0, 0, 0],\n",
        "      [0, 0, 1, 1]\n",
        "  ],\n",
        "  [\n",
        "      [0, 1, 0, 0],\n",
        "      [0, 0, 0, 0],\n",
        "      [0, 0, 0, 0],\n",
        "      [0, 0, 1, 0]\n",
        "  ]\n",
        "  ] # 3차원 배월 이용용\n",
        "\n",
        "  for r in range(len(map[0])):\n",
        "    for c in range(len(map[0][0])):\n",
        "      if(map[0][r][c] == 1 and map[1][r][c] == 1):\n",
        "        print(\"(\", r,\", \",c, \")\") # 둘다 1이면 출력\n"
      ],
      "metadata": {
        "id": "SYQMkH4oRw0f"
      },
      "execution_count": 23,
      "outputs": []
    },
    {
      "cell_type": "markdown",
      "source": [
        "2차원 배열(행렬)을 90도 회전 시켜주는 함수"
      ],
      "metadata": {
        "id": "7qVkuQlGe2z9"
      }
    },
    {
      "cell_type": "code",
      "source": [
        "def matrixTurner(ogMatrix):\n",
        "\n",
        "  ogR = len(ogMatrix) #원본 행렬의 행수\n",
        "  ogC = len(ogMatrix[0]) #원본 행렬의 열수\n",
        "\n",
        "  newMatrix = [[0 for c in range(ogR)] for r in range(ogC)] # ogC X ogR 행렬을 만듬\n",
        "\n",
        "  for c in range(ogC-1,-1,-1):\n",
        "    for r in range(0, ogR, 1):\n",
        "      newMatrix[ogC-1-c][r] = ogMatrix[r][c]\n",
        "  \n",
        "  return newMatrix\n",
        "\n"
      ],
      "metadata": {
        "id": "ZoDgFHa1ZqWa"
      },
      "execution_count": 30,
      "outputs": []
    },
    {
      "cell_type": "markdown",
      "source": [],
      "metadata": {
        "id": "YuWGe5Y9mJ2K"
      }
    },
    {
      "cell_type": "code",
      "source": [],
      "metadata": {
        "id": "eT-WXNQWeRzI"
      },
      "execution_count": null,
      "outputs": []
    }
  ]
}