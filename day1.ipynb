{
  "nbformat": 4,
  "nbformat_minor": 0,
  "metadata": {
    "colab": {
      "provenance": [],
      "authorship_tag": "ABX9TyOFx5JbXSQY7JnP7MrWtacg",
      "include_colab_link": true
    },
    "kernelspec": {
      "name": "python3",
      "display_name": "Python 3"
    },
    "language_info": {
      "name": "python"
    }
  },
  "cells": [
    {
      "cell_type": "markdown",
      "metadata": {
        "id": "view-in-github",
        "colab_type": "text"
      },
      "source": [
        "<a href=\"https://colab.research.google.com/github/KangGeonMa/Data-Structure/blob/main/day1.ipynb\" target=\"_parent\"><img src=\"https://colab.research.google.com/assets/colab-badge.svg\" alt=\"Open In Colab\"/></a>"
      ]
    },
    {
      "cell_type": "code",
      "source": [],
      "metadata": {
        "id": "G-J6Ouhco91M"
      },
      "execution_count": null,
      "outputs": []
    },
    {
      "cell_type": "markdown",
      "source": [
        "copyright 최태빈\n",
        "2022 03 22 자료구조\n",
        "append, del, len 만 사용"
      ],
      "metadata": {
        "id": "QcbGvVK6gC17"
      }
    },
    {
      "cell_type": "markdown",
      "source": [],
      "metadata": {
        "id": "6pTaOg9bQFr8"
      }
    },
    {
      "cell_type": "code",
      "source": [
        "arr = [1,2,3,4,5,6,6,6,6,6,6,7,8,9,10]\n"
      ],
      "metadata": {
        "id": "tswoDbHkndFF"
      },
      "execution_count": 16,
      "outputs": []
    },
    {
      "cell_type": "markdown",
      "source": [
        "Myappend(값)\n",
        "\n"
      ],
      "metadata": {
        "id": "EhxcMttGnXlQ"
      }
    },
    {
      "cell_type": "markdown",
      "source": [],
      "metadata": {
        "id": "kc7KY3_EQBx0"
      }
    },
    {
      "cell_type": "code",
      "source": [
        "def MyAppend(a):\n",
        "  arr.append(a)"
      ],
      "metadata": {
        "id": "0O9yatPhoM3R"
      },
      "execution_count": null,
      "outputs": []
    },
    {
      "cell_type": "markdown",
      "source": [
        "MyPop()"
      ],
      "metadata": {
        "id": "JFchowCtP_1w"
      }
    },
    {
      "cell_type": "code",
      "source": [
        "def MyPop():\n",
        "  rValue = -1\n",
        "\n",
        "  if(len(arr) == 0):\n",
        "    return rValue\n",
        "  else:\n",
        "    rValue  = arr[len(arr)-1]\n",
        "    del arr[len(arr)-1]\n",
        "    return rValue"
      ],
      "metadata": {
        "id": "OVd4F9HwoWv4"
      },
      "execution_count": null,
      "outputs": []
    },
    {
      "cell_type": "markdown",
      "source": [
        "MyRemove(a)"
      ],
      "metadata": {
        "id": "-dX2SrwT0R_Q"
      }
    },
    {
      "cell_type": "code",
      "source": [
        "def MyRemove(target):\n",
        "  findFlag = False #찾았는지\n",
        "\n",
        "  for i in range(0,len(arr),1):\n",
        "    if arr[i] == target:\n",
        "      findFalg = True #찾음\n",
        "      break\n",
        "\n",
        "  if findFlag == False:\n",
        "    raise Exception(\"ValueError\")\n",
        "\n",
        "  for j in range(i,len(arr)-1,1):\n",
        "    arr[j] = arr[j+1]\n",
        "  \n",
        "  del arr[len(arr)-1] # 마지막항 삭제"
      ],
      "metadata": {
        "id": "zHVtTAt4TNq_"
      },
      "execution_count": 12,
      "outputs": []
    },
    {
      "cell_type": "markdown",
      "source": [
        "4개의 정수중 최대 최소 찾기"
      ],
      "metadata": {
        "id": "OtqgKMDf0ZXA"
      }
    },
    {
      "cell_type": "code",
      "source": [
        "def main():\n",
        "\n",
        "  temp = int(input(\"입력값: \"))\n",
        "  maxNum = temp\n",
        "  minNum = temp\n",
        "\n",
        "  for i in range(3):\n",
        "    temp = int(input(\"입력값: \"))\n",
        "    if(maxNum>temp):\n",
        "      maxNum = temp\n",
        "    if(minNum<temp):\n",
        "      minNum = temp\n",
        "  print(maxNum - minNum)\n",
        "\n",
        "  \n"
      ],
      "metadata": {
        "id": "OdDLyQOvt-qJ"
      },
      "execution_count": null,
      "outputs": []
    },
    {
      "cell_type": "markdown",
      "source": [
        "MyIndex(a)"
      ],
      "metadata": {
        "id": "lTF71SXg0vTp"
      }
    },
    {
      "cell_type": "code",
      "source": [
        "def MyIndex(a):#a값을 갖는 인덱스 반환(앞에서 부터 찾음), 없으면 -1\n",
        "  for i in range(0,len(arr),1):\n",
        "    if(arr[i] == a):\n",
        "      return i\n",
        "      \n",
        "  return -1\n"
      ],
      "metadata": {
        "id": "_AH9unkTzhfV"
      },
      "execution_count": null,
      "outputs": []
    },
    {
      "cell_type": "markdown",
      "source": [
        "MyInsert(idx,a)"
      ],
      "metadata": {
        "id": "7gJUf6M01vcH"
      }
    },
    {
      "cell_type": "code",
      "source": [
        "def MyInsert(idx, a):\n",
        "  if idx > len(arr)-1: #idx가 마지막 인덱스 보다 크면\n",
        "    idx = len(arr) #맨뒤로 삽입\n",
        "  elif idx < -len(arr):#idx가 첫번째째 인덱스 보다 작으면\n",
        "    idx = -len(arr) #맨 앞으로 삽입\n",
        "\n",
        "  if idx < 0:\n",
        "    #음수 인덱스면 양수인덱스로 바꿔줌\n",
        "    idx += len(arr)\n",
        "  \n",
        "  arr.append(None) #한칸을 연장\n",
        "\n",
        "  for i in range(len(arr)-1,idx,-1):\n",
        "    #맨 끝에서 idx+1 까지\n",
        "    arr[i] = arr[i-1] # 전의 값을 복사\n",
        "  \n",
        "  arr[idx] = a;\n",
        "  \n",
        "  return"
      ],
      "metadata": {
        "id": "HX4zDEzY1nRr"
      },
      "execution_count": 2,
      "outputs": []
    },
    {
      "cell_type": "markdown",
      "source": [
        "MyCount(찾는값)"
      ],
      "metadata": {
        "id": "aj-GV43sUQzU"
      }
    },
    {
      "cell_type": "code",
      "source": [
        "def MyCount(target):\n",
        "  count = 0\n",
        "  for i in arr:\n",
        "    if i == target:\n",
        "      count+=1\n",
        "  return count"
      ],
      "metadata": {
        "id": "TmSg0sfoUV-1"
      },
      "execution_count": 15,
      "outputs": []
    },
    {
      "cell_type": "markdown",
      "source": [
        "MyLen()"
      ],
      "metadata": {
        "id": "ty2rBOZFU5NH"
      }
    },
    {
      "cell_type": "code",
      "source": [
        "def MyLen():\n",
        "  len = 0\n",
        "  for i in arr:\n",
        "    len+=1\n",
        "  return len"
      ],
      "metadata": {
        "id": "xHQFPKYWUzdS"
      },
      "execution_count": 19,
      "outputs": []
    },
    {
      "cell_type": "markdown",
      "source": [
        "MyReverse()"
      ],
      "metadata": {
        "id": "lh-E5CqqVWFX"
      }
    },
    {
      "cell_type": "code",
      "source": [
        "def MyReverse():\n",
        "  rCopy = []\n",
        "  \n",
        "  for i in range(len(arr)-1,-1,-1):\n",
        "    rCopy.append(arr[i])\n",
        "\n",
        "  arr[:] = rCopy"
      ],
      "metadata": {
        "id": "L0DPCnqDVQ3J"
      },
      "execution_count": 21,
      "outputs": []
    },
    {
      "cell_type": "markdown",
      "source": [
        "MySwap()"
      ],
      "metadata": {
        "id": "WD4Fx4BwW6Ie"
      }
    },
    {
      "cell_type": "code",
      "source": [
        "def MySwap(idx1,idx2):\n",
        "  if idx1 > len(arr)-1: #idx1가 마지막 인덱스 보다 크면\n",
        "    idx1 = len(arr)-1 #맨뒤\n",
        "  elif idx1 < -len(arr):#idx1가 첫번째 인덱스 보다 작으면\n",
        "    idx1 = -len(arr) #맨앞\n",
        "\n",
        "  if idx2 > len(arr)-1: #idx2가 마지막 인덱스 보다 크면\n",
        "    idx2 = len(arr)-1 #맨뒤\n",
        "  elif idx2 < -len(arr):#idx2가 첫번째 인덱스 보다 작으면\n",
        "    idx2 = -len(arr) #맨앞\n",
        "\n",
        "  arr[idx1],arr[idx2] = arr[idx2],arr[idx1] #파이썬이어서 가능"
      ],
      "metadata": {
        "id": "VCRJ6XxaWzaP"
      },
      "execution_count": 41,
      "outputs": []
    }
  ]
}