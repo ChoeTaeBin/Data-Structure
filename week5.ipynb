{
  "nbformat": 4,
  "nbformat_minor": 0,
  "metadata": {
    "colab": {
      "provenance": [],
      "authorship_tag": "ABX9TyNxQ2iewrdrYqkr/Ke1qFqR",
      "include_colab_link": true
    },
    "kernelspec": {
      "name": "python3",
      "display_name": "Python 3"
    },
    "language_info": {
      "name": "python"
    }
  },
  "cells": [
    {
      "cell_type": "markdown",
      "metadata": {
        "id": "view-in-github",
        "colab_type": "text"
      },
      "source": [
        "<a href=\"https://colab.research.google.com/github/KangGeonMa/Data-Structure/blob/main/week5.ipynb\" target=\"_parent\"><img src=\"https://colab.research.google.com/assets/colab-badge.svg\" alt=\"Open In Colab\"/></a>"
      ]
    },
    {
      "cell_type": "markdown",
      "source": [
        "array 기반 Queue\n",
        "(원형 Queue)"
      ],
      "metadata": {
        "id": "YUvi02c25Yi6"
      }
    },
    {
      "cell_type": "markdown",
      "source": [
        "reverse 구현을 위해 import"
      ],
      "metadata": {
        "id": "f57oNcm8YVsL"
      }
    },
    {
      "cell_type": "code",
      "source": [
        "class AStack:\n",
        "  def __init__(self,size = 100):\n",
        "    self.size = size#크기의 한도\n",
        "    self.arr  = [None for i in range(size)] #크기가 size인 배열을 미리 만들어 둠\n",
        "    self.topIdx = -1 #맨 꼭대기를 나타냄\n",
        "\n",
        "  def isStackFull(self):\n",
        "    if(self.size-1<=self.topIdx):\n",
        "      return True\n",
        "    else:\n",
        "      return False\n",
        "  \n",
        "  def isStackEmpty(self):\n",
        "    if(self.topIdx == -1):\n",
        "      return True\n",
        "    else:\n",
        "      return False\n",
        "  \n",
        "  def push(self,data):\n",
        "    if(self.isStackFull()):\n",
        "      print(\"Stack is full!\")\n",
        "      return\n",
        "\n",
        "    self.topIdx+=1\n",
        "    self.arr[self.topIdx] = data\n",
        "  \n",
        "  def pop(self):\n",
        "    if(self.isStackEmpty()):\n",
        "      print(\"Stack is empty!\")\n",
        "      return\n",
        "    else:\n",
        "      rData = self.arr[self.topIdx]\n",
        "      self.arr[self.topIdx] = None\n",
        "      self.topIdx -=1\n",
        "      return rData\n",
        "  \n",
        "  def top(self):\n",
        "    if(self.isStackEmpty()):\n",
        "      return None\n",
        "    return self.arr[self.topIdx]"
      ],
      "metadata": {
        "id": "6otSXDWlYRt4"
      },
      "execution_count": 1,
      "outputs": []
    },
    {
      "cell_type": "code",
      "source": [
        "class AQueue:\n",
        "  def __init__(self,size = 101):\n",
        "    self.size = size\n",
        "    self.arr = [None for i in range(size)] #크기가 size인 배열 생성\n",
        "    self.front = 0\n",
        "    self.back = 0\n",
        "  \n",
        "  def nextIdx(self,curIdx): #다음 index를 알려주는 함수 원형으로 만든는 역할을 함함\n",
        "    if(self.size-1==curIdx):\n",
        "      return 0\n",
        "    else:\n",
        "      return curIdx+1\n",
        "  \n",
        "  def isEmpty(self): #front == back이면 Empty\n",
        "    return (self.front == self.back)\n",
        "\n",
        "  def isFull(self): #front의 다음 index가 front이면 Full\n",
        "    return (self.nextIdx(self.back) == self.front)\n",
        "\n",
        "  def enqueue(self,data):\n",
        "    if(self.isFull()):\n",
        "      print(\"queue is full!\")\n",
        "      return\n",
        "    self.back = self.nextIdx(self.back)\n",
        "    self.arr[self.back] = data\n",
        "  \n",
        "  def dequeue(self):\n",
        "    if(self.isEmpty()):\n",
        "      print(\"queue is empty!\")\n",
        "      return\n",
        "    self.front = self.nextIdx(self.front)\n",
        "    return self.arr[self.front]#데이터는 삭제 하지 않고 그냥 둔다.\n",
        "\n",
        "  \n"
      ],
      "metadata": {
        "id": "8cy4oc2W5YUP"
      },
      "execution_count": 11,
      "outputs": []
    },
    {
      "cell_type": "code",
      "execution_count": null,
      "metadata": {
        "id": "BKe8b08N5KQ0",
        "colab": {
          "base_uri": "https://localhost:8080/"
        },
        "outputId": "68c908ad-13db-42ae-c58c-e3ad4980b08b"
      },
      "outputs": [
        {
          "output_type": "stream",
          "name": "stdout",
          "text": [
            "0\n",
            "1\n",
            "2\n",
            "3\n",
            "4\n",
            "5\n",
            "6\n",
            "7\n",
            "8\n",
            "9\n"
          ]
        }
      ],
      "source": [
        "queue = AQueue()\n",
        "\n",
        "for i in range(10):\n",
        "  queue.enqueue(i)\n",
        "\n",
        "while(not queue.isEmpty()):\n",
        "  print(queue.dequeue())"
      ]
    },
    {
      "cell_type": "markdown",
      "source": [
        "LinkedList 기반의 Queue"
      ],
      "metadata": {
        "id": "vtfU9Bom1F5P"
      }
    },
    {
      "cell_type": "code",
      "source": [
        "class LQueue:\n",
        "  class Node:\n",
        "    def __init__(self, data = None,pre = None, next = None):#양방향 연결\n",
        "      self.data = data\n",
        "      self.next = next\n",
        "      self.pre = pre\n",
        "  \n",
        "  def __init__(self):\n",
        "    self.front = self.Node(None,None,None) #dummy node 생성 (front.next 가 항상 접근 가능 하도록)\n",
        "    self.back = self.Node(None,None,None) #dummy node 생성 (back.next 가 항상 접근 가능 하도록)\n",
        "    #front와 back을 연결\n",
        "    self.front.next = self.back\n",
        "    self.back.pre = self.front\n",
        "  \n",
        "  def isEmpty(self):\n",
        "    return (self.front.next == self.back) #front<->next 형태이면 빈것\n",
        "\n",
        "  def enqueueRear(self,data):#뒤로(뒤 더미 노드 바로 앞에) 넣음\n",
        "    nNode = self.Node(data,self.back.pre,self.back)#본인 앞 뒤 연결\n",
        "    self.back.pre.next = nNode #앞 상대가  연결\n",
        "    self.back.pre = nNode#뒤 상대가 연결\n",
        "\n",
        "  def enqueueFront(self,data):#앞으로(앞 더미 노드 바로 뒤에) 넣음\n",
        "    nNode = self.Node(data, self.front, self.front.next)#본인 앞뒤 연결\n",
        "    self.front.next.pre = nNode #뒤 상대가 연결\n",
        "    self.front.next = nNode #앞 상대가 연결\n",
        "\n",
        "  def dequeueFront(self):\n",
        "    if(self.isEmpty()):\n",
        "      print(\"queue is empty!\")\n",
        "      return None\n",
        "\n",
        "    rData = self.front.next.data\n",
        "\n",
        "    self.front.next.next.pre = self.front #뒤 기열\n",
        "    self.front.next = self.front.next.next #앞 기열\n",
        "\n",
        "    return rData\n",
        "  \n",
        "  def dequeueRear(self):\n",
        "    if(self.isEmpty()):\n",
        "      print(\"queue is empty!\")\n",
        "\n",
        "    rData = self.back.pre.data\n",
        "\n",
        "    self.back.pre.pre.next = self.back # 앞 기열 \n",
        "    self.back.pre = self.back.pre.pre # 뒤 기열\n",
        "\n",
        "    return rData\n",
        "\n",
        "  def printqueue(self):\n",
        "    cur = self.front.next\n",
        "    while(cur != self.back):\n",
        "      print(cur.data)\n",
        "      cur = cur.next\n",
        "\n",
        "\n",
        "  def reverse(self): #queue를 통째로 뒤집어버림\n",
        "    cur = self.front\n",
        "\n",
        "    while(cur != None):\n",
        "      cur.pre, cur.next = cur.next, cur.pre\n",
        "      cur = cur.pre\n",
        "\n",
        "    self.front, self.back = self.back, self.front\n",
        "\n",
        "  def reverseByStack(self):#stack을 이용함\n",
        "    stack = AStack()\n",
        "\n",
        "    while(not self.isEmpty()):#스택에 모두넣고\n",
        "      stack.push(self.dequeueFront())\n",
        "\n",
        "    while(not stack.isStackEmpty()):#다시 빼서 큐로\n",
        "      self.enqueueRear(stack.pop())\n",
        "  \n",
        "  \n",
        "\n"
      ],
      "metadata": {
        "id": "XJD3hTRV1FpP"
      },
      "execution_count": 7,
      "outputs": []
    },
    {
      "cell_type": "code",
      "source": [
        "queue = LQueue()\n",
        "\n",
        "for i in range(10):\n",
        "  queue.enqueueRear(i)\n",
        "\n",
        "queue.printqueue()\n",
        "#queue.reverse()\n",
        "queue.reverseByStack()\n",
        "print()\n",
        "print()\n",
        "\n",
        "queue.printqueue()\n",
        "# while(not queue.isEmpty()):\n",
        "#   print(queue.dequeueFront())\n"
      ],
      "metadata": {
        "colab": {
          "base_uri": "https://localhost:8080/"
        },
        "id": "oWievZL0v0u0",
        "outputId": "dfbde31f-9712-4ea5-8467-ce83e5399291"
      },
      "execution_count": 8,
      "outputs": [
        {
          "output_type": "stream",
          "name": "stdout",
          "text": [
            "0\n",
            "1\n",
            "2\n",
            "3\n",
            "4\n",
            "5\n",
            "6\n",
            "7\n",
            "8\n",
            "9\n",
            "\n",
            "\n",
            "9\n",
            "8\n",
            "7\n",
            "6\n",
            "5\n",
            "4\n",
            "3\n",
            "2\n",
            "1\n",
            "0\n"
          ]
        }
      ]
    },
    {
      "cell_type": "code",
      "source": [
        "queue = AQueue()\n",
        "\n",
        "arr = ['D', 'C', 'B', 'A']\n",
        "\n",
        "for i in arr:\n",
        "  queue.enqueue(i)\n",
        "\n",
        "for i in range(4):\n",
        "  print(queue.dequeue())\n"
      ],
      "metadata": {
        "colab": {
          "base_uri": "https://localhost:8080/"
        },
        "id": "YyO502NzbRfX",
        "outputId": "9d310d33-cec7-4507-cfe4-5ab1f6c3af54"
      },
      "execution_count": 12,
      "outputs": [
        {
          "output_type": "stream",
          "name": "stdout",
          "text": [
            "D\n",
            "C\n",
            "B\n",
            "A\n"
          ]
        }
      ]
    },
    {
      "cell_type": "code",
      "source": [],
      "metadata": {
        "id": "5cKnUa7ScPAS"
      },
      "execution_count": null,
      "outputs": []
    }
  ]
}