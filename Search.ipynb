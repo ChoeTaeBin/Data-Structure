{
  "nbformat": 4,
  "nbformat_minor": 0,
  "metadata": {
    "colab": {
      "provenance": [],
      "authorship_tag": "ABX9TyNVIFngy9vQn6GlQ6utgQxc",
      "include_colab_link": true
    },
    "kernelspec": {
      "name": "python3",
      "display_name": "Python 3"
    },
    "language_info": {
      "name": "python"
    }
  },
  "cells": [
    {
      "cell_type": "markdown",
      "metadata": {
        "id": "view-in-github",
        "colab_type": "text"
      },
      "source": [
        "<a href=\"https://colab.research.google.com/github/KangGeonMa/Data-Structure/blob/main/Search.ipynb\" target=\"_parent\"><img src=\"https://colab.research.google.com/assets/colab-badge.svg\" alt=\"Open In Colab\"/></a>"
      ]
    },
    {
      "cell_type": "code",
      "execution_count": null,
      "metadata": {
        "id": "0-_BO8e6ryFL"
      },
      "outputs": [],
      "source": [
        "class SearchLab: #못찾으면 -1\n",
        "  \n",
        "  def __init__(self):\n",
        "    self.arr = [1,3,5,7,9]\n",
        "  \n",
        "  def linearSearch(self,target):#LinearSearch O(n)\n",
        "    for i in range(0,len(self.arr)):\n",
        "      if(self.arr[i] == target):\n",
        "        return i\n",
        "    return -1\n",
        "  \n",
        "  def binarySearch(self,target):\n",
        "    startIdx = 0; #첫 idx\n",
        "    endIdx = len(self.arr)-1; #마지막 idx\n",
        "\n",
        "    while(startIdx <= endIdx):#마지막 하나까지 검사\n",
        "\n",
        "      midIdx = (startIdx + endIdx)//2; #정수 나눗셈\n",
        "\n",
        "      if(self.arr[midIdx] == target):#찾았으면\n",
        "        return midIdx\n",
        "      elif(self.arr[midIdx]<target):#중간값 보다 작으면\n",
        "        startIdx = midIdx+1#더 큰 쪽만 볼까\n",
        "      else:#중간값 보다 크면\n",
        "        endIdx = midIdx-1#더 작은 쪽만 보자\n",
        "      \n",
        "    return -1\n",
        "  \n",
        "  def binarySearchR(self,startIdx,endIdx,target):\n",
        "    if(startIdx>endIdx):#마지막 까지 다 보았다면\n",
        "      return -1\n",
        "    \n",
        "    midIdx = (startIdx+endIdx)//2\n",
        "\n",
        "    if(self.arr[midIdx] == target):\n",
        "      return midIdx#찾음\n",
        "    elif(self.arr[midIdx]<target):\n",
        "      return self.binarySearch(midIdx+1,endIdx,target) \n",
        "    else:\n",
        "      return self.binarySearch(startIdx,midIdx-1,target)\n",
        "\n",
        "\n",
        "\n",
        "\n"
      ]
    },
    {
      "cell_type": "code",
      "source": [
        "s = SearchLab()\n",
        "\n",
        "print(s.linearSearch(5))\n",
        "print(s.binarySearch(5))\n",
        "print(s.binarySearchR(0,len(s.arr)-1,5))"
      ],
      "metadata": {
        "colab": {
          "base_uri": "https://localhost:8080/"
        },
        "id": "bTg4Cr0CtOiq",
        "outputId": "a9b51659-9d45-4662-f137-f40d585f3847"
      },
      "execution_count": null,
      "outputs": [
        {
          "output_type": "stream",
          "name": "stdout",
          "text": [
            "2\n",
            "2\n",
            "2\n"
          ]
        }
      ]
    },
    {
      "cell_type": "markdown",
      "source": [
        "계란 실험 문제"
      ],
      "metadata": {
        "id": "4XvZBpGz0uX5"
      }
    },
    {
      "cell_type": "code",
      "source": [
        "eggDrop = [False for i in range(15)]\n",
        "for i in range(100):\n",
        "  eggDrop.append(True)\n",
        "#최초로 True 인 idx찾기"
      ],
      "metadata": {
        "id": "1XgF5ER9tguT"
      },
      "execution_count": null,
      "outputs": []
    },
    {
      "cell_type": "markdown",
      "source": [
        "naver 문제"
      ],
      "metadata": {
        "id": "XC3ytscP2EBZ"
      }
    },
    {
      "cell_type": "code",
      "source": [
        "import random\n",
        "\n",
        "def randomLab():\n",
        "  data_list = random.sample(range(100),10)\n",
        "  print(data_list)\n",
        "\n",
        "  numOfEven = 0#짝수 갯수\n",
        "\n",
        "  for i in range(len(data_list)):\n",
        "    if(data_list[i] % 2 == 0): numOfEven+=1\n",
        "  \n",
        "  print(\"짝수의 갯수: \", numOfEven)\n",
        "\n",
        "  msg = '반복 없음'\n",
        "  for idx1 in range(0,len(data_list)-1):\n",
        "    for idx2 in range(idx1+1,len(data_list)):\n",
        "      if(data_list[idx1] == data_list[idx2]):\n",
        "        msg = '반복 있음'\n",
        "        break\n",
        "  \n",
        "  print(\"반복 여부: \", msg)\n",
        "\n",
        "  max = data_list[0]\n",
        "  min = data_list[0]\n",
        "\n",
        "  for i in data_list:\n",
        "    if(i>max): max = i\n",
        "    if(i<min): min = i\n",
        "\n",
        "  print(\"max-min: \",max-min)\n"
      ],
      "metadata": {
        "id": "LRO5WQ322BrU"
      },
      "execution_count": null,
      "outputs": []
    },
    {
      "cell_type": "code",
      "source": [
        "randomLab()"
      ],
      "metadata": {
        "colab": {
          "base_uri": "https://localhost:8080/"
        },
        "id": "kgF30Hw74DWd",
        "outputId": "363881c1-7f85-4503-8fa5-2ebbd112a944"
      },
      "execution_count": null,
      "outputs": [
        {
          "output_type": "stream",
          "name": "stdout",
          "text": [
            "[66, 19, 20, 11, 33, 92, 69, 35, 15, 96]\n",
            "짝수의 갯수:  4\n",
            "반복 여부:  반복 없음\n",
            "max-min:  85\n"
          ]
        }
      ]
    },
    {
      "cell_type": "markdown",
      "source": [
        "네이버 문제"
      ],
      "metadata": {
        "id": "aH8mHtQ442xz"
      }
    },
    {
      "cell_type": "code",
      "source": [
        "\n",
        "def isAeiou(c):\n",
        "  return c == 'a' or c == 'e' or c == 'i' or c == 'o' or c == 'u'\n",
        "\n",
        "def digA(str,idx,depth): #true false와 검사된 idx를 반환\n",
        "  depth+=1 #깊이를 1증가\n",
        "  \n",
        "  if(idx == len(str)-1):#마지막 idx인 경우\n",
        "    if(depth == 2):\n",
        "      return True,idx\n",
        "    else:\n",
        "      return False,idx\n",
        "  else:#마지막 idx가 아닌경우\n",
        "    if(isAeiou(str[idx+1])):#다음 글자가 모음인 경우\n",
        "      return digA(str,idx+1,depth)\n",
        "    else:\n",
        "      return (depth == 2),idx #깊이가 2인지\n",
        "\n",
        "def isCaseA(str):\n",
        "  checkedIdx = 0\n",
        "  flag = False\n",
        "\n",
        "  i = 0\n",
        "  while(i<len(str)):\n",
        "    print(i,\"부터 검사\")\n",
        "    if(isAeiou(str[i])):\n",
        "      flag,checkedIdx = digA(str,i,0)\n",
        "      print(checkedIdx, \" 까지 check 결과: \", flag)\n",
        "\n",
        "      if(flag):\n",
        "        return True\n",
        "      else:\n",
        "        i = checkedIdx+1\n",
        "    else:\n",
        "      i+=1\n",
        "\n",
        "  return False\n",
        "\n",
        "\n",
        "def digB(str,idx,depth): #true false와 검사된 idx를 반환\n",
        "  depth+=1 #깊이를 1증가\n",
        "  \n",
        "  if(idx == len(str)-1):#마지막 idx인 경우\n",
        "    if(depth == 3):\n",
        "      return True,idx\n",
        "    else:\n",
        "      return False,idx\n",
        "  else:#마지막 idx가 아닌경우\n",
        "    if(not isAeiou(str[idx+1])):#다음 글자가 모음인 경우\n",
        "      return digB(str,idx+1,depth)\n",
        "    else:\n",
        "      return (depth == 3),idx #깊이가 3인지\n",
        "\n",
        "def isCaseB(str):\n",
        "  checkedIdx = 0\n",
        "  flag = False\n",
        "\n",
        "  i = 0\n",
        "  while(i<len(str)):\n",
        "    print(i,\"부터 검사\")\n",
        "    if(not isAeiou(str[i])):\n",
        "      flag,checkedIdx = digB(str,i,0)\n",
        "      print(checkedIdx, \" 까지 check 결과: \", flag)\n",
        "\n",
        "      if(flag):\n",
        "        return True\n",
        "      else:\n",
        "        i = checkedIdx+1\n",
        "    else:\n",
        "      i+=1\n",
        "\n",
        "  return False\n",
        "\n",
        "\n",
        "def main():\n",
        "  aNum = 0\n",
        "  bNum = 0\n",
        "  strs = input().split()\n",
        "  \n",
        "  for i in range(len(strs)):\n",
        "    print(strs[i])\n",
        "    if(isCaseA(strs[i].strip())):\n",
        "      aNum += 1\n",
        "    if(isCaseB(strs[i].strip())):\n",
        "      bNum += 1\n",
        "  \n",
        "  print(aNum)\n",
        "  print(bNum)\n"
      ],
      "metadata": {
        "id": "9JIMHveF4GSX"
      },
      "execution_count": 21,
      "outputs": []
    },
    {
      "cell_type": "code",
      "source": [
        "main()"
      ],
      "metadata": {
        "colab": {
          "base_uri": "https://localhost:8080/"
        },
        "id": "UAmKkx0X8PUY",
        "outputId": "50e88f71-6eab-4faa-a962-c8854dd82504"
      },
      "execution_count": 22,
      "outputs": [
        {
          "output_type": "stream",
          "name": "stdout",
          "text": [
            "toast standard bank display book\n",
            "toast\n",
            "0 부터 검사\n",
            "1 부터 검사\n",
            "2  까지 check 결과:  True\n",
            "0 부터 검사\n",
            "0  까지 check 결과:  False\n",
            "1 부터 검사\n",
            "2 부터 검사\n",
            "3 부터 검사\n",
            "4  까지 check 결과:  False\n",
            "standard\n",
            "0 부터 검사\n",
            "1 부터 검사\n",
            "2 부터 검사\n",
            "2  까지 check 결과:  False\n",
            "3 부터 검사\n",
            "4 부터 검사\n",
            "5 부터 검사\n",
            "5  까지 check 결과:  False\n",
            "6 부터 검사\n",
            "7 부터 검사\n",
            "0 부터 검사\n",
            "1  까지 check 결과:  False\n",
            "2 부터 검사\n",
            "3 부터 검사\n",
            "4  까지 check 결과:  False\n",
            "5 부터 검사\n",
            "6 부터 검사\n",
            "7  까지 check 결과:  False\n",
            "bank\n",
            "0 부터 검사\n",
            "1 부터 검사\n",
            "1  까지 check 결과:  False\n",
            "2 부터 검사\n",
            "3 부터 검사\n",
            "0 부터 검사\n",
            "0  까지 check 결과:  False\n",
            "1 부터 검사\n",
            "2 부터 검사\n",
            "3  까지 check 결과:  False\n",
            "display\n",
            "0 부터 검사\n",
            "1 부터 검사\n",
            "1  까지 check 결과:  False\n",
            "2 부터 검사\n",
            "3 부터 검사\n",
            "4 부터 검사\n",
            "5 부터 검사\n",
            "5  까지 check 결과:  False\n",
            "6 부터 검사\n",
            "0 부터 검사\n",
            "0  까지 check 결과:  False\n",
            "1 부터 검사\n",
            "2 부터 검사\n",
            "4  까지 check 결과:  True\n",
            "book\n",
            "0 부터 검사\n",
            "1 부터 검사\n",
            "2  까지 check 결과:  True\n",
            "0 부터 검사\n",
            "0  까지 check 결과:  False\n",
            "1 부터 검사\n",
            "2 부터 검사\n",
            "3 부터 검사\n",
            "3  까지 check 결과:  False\n",
            "2\n",
            "1\n"
          ]
        }
      ]
    },
    {
      "cell_type": "code",
      "source": [],
      "metadata": {
        "id": "urIXv9WA8VJe"
      },
      "execution_count": null,
      "outputs": []
    }
  ]
}